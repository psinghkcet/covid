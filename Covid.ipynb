{
    "cells": [
        {
            "metadata": {},
            "cell_type": "markdown",
            "source": ""
        },
        {
            "metadata": {},
            "cell_type": "markdown",
            "source": "# My Jupyter Notebook on IBM Watson Studio"
        },
        {
            "metadata": {},
            "cell_type": "markdown",
            "source": "<b>Prabhdeep Singh, Educator</b>\n"
        },
        {
            "metadata": {},
            "cell_type": "markdown",
            "source": "<i>Data scientists have a wide variety of skill sets that can leverage data and information to help organizations to make better strategic decisions. They get exciting opportunities to work and experiment with data to come up with the suitable solutions for the businesses"
        },
        {
            "metadata": {},
            "cell_type": "markdown",
            "source": " add two numbers"
        },
        {
            "metadata": {},
            "cell_type": "code",
            "source": "a=5\nb=6\nc=a+b\nprint(c)",
            "execution_count": 1,
            "outputs": [
                {
                    "output_type": "stream",
                    "text": "11\n",
                    "name": "stdout"
                }
            ]
        },
        {
            "metadata": {},
            "cell_type": "markdown",
            "source": "<ul>\n<li>Fish</li>\n<li>Eggs</li>\n<li>Cheese</li>\n</ul>"
        },
        {
            "metadata": {},
            "cell_type": "markdown",
            "source": "<ol>\n<li>Fish</li>\n<li>Eggs</li>\n<li>Cheese</li>\n</ol>"
        },
        {
            "metadata": {},
            "cell_type": "markdown",
            "source": "<ul>\n<li>Fish</li>\n<li>Eggs</li>\n<li>Cheese</li>\n</ul>"
        },
        {
            "metadata": {},
            "cell_type": "markdown",
            "source": "<table style=\"width:20%\">\n<tr>\n<th><Name></th>\n<th><Address></th>\n<th><Salary></th>\n</tr>\n\n<tr>\n<td><Hanna></td>\n<td><Brisbane></td>\n<td><4000></td>\n</tr>\n\n<tr>\n<td><Adam></td>\n<td><Sydney></td>\n<td><5000></td>\n</tr>\n</table>"
        },
        {
            "metadata": {},
            "cell_type": "markdown",
            "source": "<table style=\"width:20%\">\n<tr>\n<th><Name></th>\n<th><Address></th>\n<th><Salary></th>\n</tr>\n\n<tr>\n<td><Hanna></td>\n<td><Brisbane></td>\n<td><4000></td>\n</tr>\n\n<tr>\n<td><Adam></td>\n<td><Sydney></td>\n<td><5000></td>\n</tr>\n</table>"
        },
        {
            "metadata": {},
            "cell_type": "code",
            "source": "",
            "execution_count": null,
            "outputs": []
        }
    ],
    "metadata": {
        "kernelspec": {
            "name": "python3",
            "display_name": "Python 3.6",
            "language": "python"
        },
        "language_info": {
            "name": "python",
            "version": "3.6.9",
            "mimetype": "text/x-python",
            "codemirror_mode": {
                "name": "ipython",
                "version": 3
            },
            "pygments_lexer": "ipython3",
            "nbconvert_exporter": "python",
            "file_extension": ".py"
        }
    },
    "nbformat": 4,
    "nbformat_minor": 1
}